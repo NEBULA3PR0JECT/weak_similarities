{
 "cells": [
  {
   "cell_type": "code",
   "execution_count": null,
   "metadata": {},
   "outputs": [],
   "source": [
    "%pip install --index-url http://74.82.29.209:8090 nebula3_database==0.2.2 --trusted-host 74.82.29.209"
   ]
  },
  {
   "cell_type": "code",
   "execution_count": null,
   "metadata": {},
   "outputs": [],
   "source": [
    "%pip install -U sentence-transformers"
   ]
  },
  {
   "cell_type": "code",
   "execution_count": null,
   "metadata": {},
   "outputs": [],
   "source": [
    "from transformers import AutoModelForCausalLM, AutoTokenizer, set_seed\n",
    "from database.arangodb import DatabaseConnector\n",
    "import torch\n",
    "import weaviate\n",
    "import json\n",
    "from sentence_transformers import SentenceTransformer, util\n",
    "import uuid"
   ]
  },
  {
   "cell_type": "code",
   "execution_count": null,
   "metadata": {},
   "outputs": [],
   "source": [
    "client = weaviate.Client(\"http://64.71.146.93:8080\") # <== if you use Docker-compose\n",
    "gdb = DatabaseConnector()\n",
    "db = gdb.connect_db('prodemo')\n",
    "schema = client.schema.get()\n",
    "print(json.dumps(schema))"
   ]
  },
  {
   "cell_type": "code",
   "execution_count": null,
   "metadata": {},
   "outputs": [],
   "source": [
    "st_model = SentenceTransformer('all-mpnet-base-v2', cache_folder=\"all_mpnet_base\")"
   ]
  },
  {
   "cell_type": "code",
   "execution_count": null,
   "metadata": {},
   "outputs": [],
   "source": [
    "# we will create the class \"Author\" and the properties\n",
    "# from the basics section of this guide\n",
    "class_obj = {\n",
    "    \"class\": \"Weak_Sim_Intent\", # <= note the capital \"A\".\n",
    "    \"description\": \"Add weak intent similarity\",\n",
    "    \"vectorizer\": \"none\",\n",
    "    \"properties\": [\n",
    "        {\n",
    "            \"dataType\": [\n",
    "                \"int\"\n",
    "            ],\n",
    "            \"description\": \"Frame_nmb\",\n",
    "            \"name\": \"frame_nmbr\",\n",
    "        },\n",
    "        {\n",
    "            \"dataType\": [\n",
    "                \"string\"\n",
    "            ],\n",
    "            \"description\": \"movie_id\",\n",
    "            \"name\": \"movie_id\"\n",
    "        },\n",
    "        {\n",
    "            \"dataType\": [\n",
    "                \"string\"\n",
    "            ],\n",
    "            \"description\": \"url\",\n",
    "            \"name\": \"url\"\n",
    "        },\n",
    "        {\n",
    "            \"dataType\": [\n",
    "                \"string\"\n",
    "            ],\n",
    "            \"description\": \"caption\",\n",
    "            \"name\": \"caption\"\n",
    "        },\n",
    "        {\n",
    "            \"dataType\": [\n",
    "                \"string\"\n",
    "            ],\n",
    "            \"description\": \"intent\",\n",
    "            \"name\": \"intent\"\n",
    "        }\n",
    "    ]\n",
    "}\n",
    "\n",
    "# add the schema\n",
    "client.schema.create_class(class_obj)\n",
    "\n",
    "# get the schema\n",
    "schema = client.schema.get()\n",
    "\n",
    "# print the schema\n",
    "print(json.dumps(schema, indent=4))"
   ]
  },
  {
   "cell_type": "code",
   "execution_count": null,
   "metadata": {},
   "outputs": [],
   "source": [
    "gr = []\n",
    "query = 'FOR doc IN  llm_weak_sim_intent RETURN doc'\n",
    "cursor = db.aql.execute(query)\n",
    "for line in cursor:\n",
    "    for ws in line['intents']:\n",
    "        data_object = {\"movie_id\": line['movie_id'], \"frame_nmbr\": line['frame_num'], \n",
    "        \"url\": line['url'], \"caption\": line['candidate'], \"intent\": ws}\n",
    "        print(data_object)\n",
    "        vector = st_model.encode(ws, convert_to_tensor=True)\n",
    "        uuid_ = uuid.uuid1()\n",
    "        print(uuid_)\n",
    "        #print(vector)\n",
    "        #input()\n",
    "        client.data_object.create(\n",
    "        data_object,\n",
    "        \"Weak_Sim_Intent\",\n",
    "        str(uuid_),\n",
    "        vector = vector # supported types are `list`, 'numpy.ndarray`, `torch.Tensor` and `tf.Tensor`. Make sure the length matches with your Weaviate settings.\n",
    "        )    "
   ]
  },
  {
   "cell_type": "code",
   "execution_count": 45,
   "metadata": {},
   "outputs": [
    {
     "data": {
      "text/plain": [
       "{'data': {'Get': {'Weak_Sim_Intent': [{'_additional': {'certainty': 0.7170430421829224},\n",
       "     'caption': 'A group of people are sitting on a stage. They are all wearing black. One woman has a microphone in front of her. There is a man sitting in the middle of the group. There is a woman to the right of the group. She is clapping.',\n",
       "     'url': 'http://74.82.29.209:9000/datasets/media/frames/video7014/frame0091.jpg'},\n",
       "    {'_additional': {'certainty': 0.7128855884075165},\n",
       "     'caption': 'This image appears to be taken in a music or television studio. Two men are sitting in chairs, facing each other. One man is wearing a black hoodie and the other is wearing a white collared shirt.',\n",
       "     'url': 'http://74.82.29.209:9000/datasets/media/frames/video7014/frame0155.jpg'},\n",
       "    {'_additional': {'certainty': 0.7128855884075165},\n",
       "     'caption': 'A group of people are sitting on a stage. They are all wearing black. One woman has a microphone in front of her. There is a man sitting in the middle of the group. There is a woman to the right of the group. She is clapping.',\n",
       "     'url': 'http://74.82.29.209:9000/datasets/media/frames/video7014/frame0091.jpg'},\n",
       "    {'_additional': {'certainty': 0.7128855884075165},\n",
       "     'caption': 'A woman with short red hair is sitting at a small table. In front of her is a plate of food. On the table is a white tablecloth. The woman is wearing a black shirt.',\n",
       "     'url': 'http://74.82.29.209:9000/datasets/media/frames/actioncliptest00007/frame1297.jpg'},\n",
       "    {'_additional': {'certainty': 0.7128855884075165},\n",
       "     'caption': 'A close up of a middle aged man sitting at a small table. He is looking down at his food. He has a cup of coffee in front of him and a plate with eggs, bacon, and toast. There is a white napkin to the left of his plate. He is wearing a blue shirt.',\n",
       "     'url': 'http://74.82.29.209:9000/datasets/media/frames/actioncliptest00007/frame0817.jpg'}]}}}"
      ]
     },
     "execution_count": 45,
     "metadata": {},
     "output_type": "execute_result"
    }
   ],
   "source": [
    "testVector = st_model.encode(\"arrest the citizen\", convert_to_tensor=True)\n",
    "nearVector = {\"vector\": testVector, 'certainty': 0.70}\n",
    "#print(nearVector)\n",
    "client.query.get(\"Weak_Sim_Intent\",[\"caption\", \"url\", \"_additional {certainty}\"]).with_near_vector(nearVector).do()"
   ]
  },
  {
   "cell_type": "code",
   "execution_count": 48,
   "metadata": {},
   "outputs": [
    {
     "data": {
      "text/plain": [
       "{'errors': [{'locations': [{'column': 22, 'line': 1}],\n",
       "   'message': 'Cannot query field \"vector\" on type \"Weak_Sim_Intent\".',\n",
       "   'path': None}]}"
      ]
     },
     "execution_count": 48,
     "metadata": {},
     "output_type": "execute_result"
    }
   ],
   "source": [
    "client.query.get(\"Weak_Sim_Intent\",\"vector\").do()"
   ]
  }
 ],
 "metadata": {
  "kernelspec": {
   "display_name": "Python 3 (ipykernel)",
   "language": "python",
   "name": "python3"
  },
  "language_info": {
   "codemirror_mode": {
    "name": "ipython",
    "version": 3
   },
   "file_extension": ".py",
   "mimetype": "text/x-python",
   "name": "python",
   "nbconvert_exporter": "python",
   "pygments_lexer": "ipython3",
   "version": "3.9.13"
  },
  "orig_nbformat": 4,
  "vscode": {
   "interpreter": {
    "hash": "f9f85f796d01129d0dd105a088854619f454435301f6ffec2fea96ecbd9be4ac"
   }
  }
 },
 "nbformat": 4,
 "nbformat_minor": 2
}
